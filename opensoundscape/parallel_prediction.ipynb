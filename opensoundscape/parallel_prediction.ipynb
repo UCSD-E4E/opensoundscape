{
 "cells": [
  {
   "cell_type": "code",
   "execution_count": 35,
   "metadata": {},
   "outputs": [],
   "source": [
    "import os\n",
    "\n",
    "import torch\n",
    "import torch.nn as nn\n",
    "from torch.nn.functional import softmax\n",
    "import torch.optim as optim\n",
    "import torchvision\n",
    "from torchvision import transforms, models\n",
    "\n",
    "from PIL import Image\n",
    "from glob import glob\n",
    "import pandas as pd\n",
    "from time import time as timer\n",
    "import numpy as np\n",
    "import multiprocessing"
   ]
  },
  {
   "cell_type": "code",
   "execution_count": 36,
   "metadata": {},
   "outputs": [],
   "source": [
    "def predict(model,img_paths, img_shape, batch_size = 1, num_workers = 1, apply_softmax = True):\n",
    "    \"\"\" get multi-class model predictions from a pytorch model for a set of images\n",
    "    \n",
    "    model: a pytorch model object (not path to weights)\n",
    "    img_paths: a list of paths to RGB png spectrograms\n",
    "    img_shape: [x,y] shape of images expected by model\n",
    "    batch_size=1: parallelization parameter (see torch.utils.data.DataLoader)\n",
    "    num_workers=1: parallelization parameter (see torch.utils.data.DataLoader)\n",
    "    apply_softmax=True: if True, puts output of network through a softmax layer\n",
    "    \n",
    "    returns: df of predictions indexed by file (columns=class names? #TODO)\"\"\"\n",
    "    class PredictionDataset(torch.utils.data.Dataset):\n",
    "        def __init__(self, df, height=img_shape[0], width=img_shape[1]):\n",
    "            self.data = df\n",
    "\n",
    "            self.height = height\n",
    "            self.width = width\n",
    "\n",
    "            self.mean = torch.tensor([0.8013 for _ in range(3)]) \n",
    "            self.std_dev = ([0.1576 for _ in range(3)])\n",
    "\n",
    "            self.transform = transforms.Compose([\n",
    "                transforms.ToTensor(),\n",
    "                transforms.Normalize(self.mean, self.std_dev)\n",
    "            ])\n",
    "\n",
    "        def __len__(self):\n",
    "            return self.data.shape[0]\n",
    "\n",
    "        def __getitem__(self, idx):\n",
    "            row = self.data.iloc[idx, :]\n",
    "            image = Image.open(row[\"filename\"])\n",
    "            image = image.convert(\"RGB\")\n",
    "            image = image.resize((self.width, self.height))\n",
    "\n",
    "            return self.transform(image) #, torch.from_numpy(labels)\n",
    "\n",
    "    #turn list of files into a df (this maintains parallelism with training format)\n",
    "    file_df = pd.DataFrame(columns=['filename'],data=img_paths)\n",
    "    \n",
    "    #create pytorch dataset and dataloader objects\n",
    "    dataset = PredictionDataset(file_df)\n",
    "    dataloader = torch.utils.data.DataLoader(dataset, batch_size=batch_size, shuffle=False, num_workers=num_workers)\n",
    "    \n",
    "    # run prediction\n",
    "    all_predictions = []\n",
    "    with torch.no_grad():\n",
    "        for i, inputs in enumerate(dataloader):\n",
    "            predictions = model(inputs)\n",
    "            if apply_softmax:\n",
    "                softmax_val = softmax(predictions, 1).detach().cpu().numpy().tolist()#.astype('float64'))\n",
    "                all_predictions += softmax_val\n",
    "            else:\n",
    "                all_predictions += predictions.detach().numpy().tolist() #.astype('float64')\n",
    "\n",
    "    #how do we get class names? are they saved in the file?\n",
    "    #the column names should be class names    \n",
    "    return all_predictions #pd.DataFrame(index=img_paths,data=all_predictions)"
   ]
  },
  {
   "cell_type": "code",
   "execution_count": 43,
   "metadata": {},
   "outputs": [],
   "source": [
    "# Load Model\n",
    "species_sci_name = 'empidonax-virescens'\n",
    "IMAGE_SHAPE = (224,224)\n",
    "\n",
    "models_dir = '/Volumes/seagate3/single-species-models/models'\n",
    "model_weights_path = os.path.join(models_dir, f'{species_sci_name}-epoch-4.model')\n",
    "num_classes=2\n",
    "model = torchvision.models.resnet18(pretrained=False)\n",
    "model.fc = nn.Linear(model.fc.in_features, num_classes)\n",
    "model.load_state_dict(torch.load(model_weights_path))\n",
    "model.eval();"
   ]
  },
  {
   "cell_type": "code",
   "execution_count": 54,
   "metadata": {},
   "outputs": [],
   "source": [
    "# we want to use multithreading"
   ]
  },
  {
   "cell_type": "code",
   "execution_count": 52,
   "metadata": {},
   "outputs": [
    {
     "name": "stdout",
     "output_type": "stream",
     "text": [
      "env: OMP_NUM_THREAD=12\n"
     ]
    }
   ],
   "source": [
    "%env OMP_NUM_THREAD=12"
   ]
  },
  {
   "cell_type": "code",
   "execution_count": 53,
   "metadata": {},
   "outputs": [
    {
     "name": "stdout",
     "output_type": "stream",
     "text": [
      "prediction of 100 images took 9.822107076644897 seconds\n"
     ]
    }
   ],
   "source": [
    "# images = pd.read_csv('/Volumes/seagate2/LOCA/4.1.0_with_background/8_events/sim_3/clip_df.csv').img_path.values\n",
    "images = glob('../../OPSO/data/pnre-5s/*.png')\n",
    "\n",
    "images = images[0:100]\n",
    "\n",
    "#predict  \n",
    "t0 = timer()\n",
    "predictions = predict(model,images, IMAGE_SHAPE, apply_softmax=True, batch_size=20, num_workers=12)\n",
    "print(f'prediction of {len(images)} images took {timer()-t0} seconds')"
   ]
  },
  {
   "cell_type": "code",
   "execution_count": 7,
   "metadata": {},
   "outputs": [
    {
     "data": {
      "text/plain": [
       "(2,)"
      ]
     },
     "execution_count": 7,
     "metadata": {},
     "output_type": "execute_result"
    }
   ],
   "source": [
    "np.shape(predictions)"
   ]
  }
 ],
 "metadata": {
  "kernelspec": {
   "display_name": "opensoundscape-6-tAnDaV-py3.7",
   "language": "python",
   "name": "opensoundscape-6-tandav-py3.7"
  },
  "language_info": {
   "codemirror_mode": {
    "name": "ipython",
    "version": 3
   },
   "file_extension": ".py",
   "mimetype": "text/x-python",
   "name": "python",
   "nbconvert_exporter": "python",
   "pygments_lexer": "ipython3",
   "version": "3.7.3"
  }
 },
 "nbformat": 4,
 "nbformat_minor": 4
}
