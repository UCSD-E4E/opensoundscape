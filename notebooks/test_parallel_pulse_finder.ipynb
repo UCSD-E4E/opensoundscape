{
 "cells": [
  {
   "cell_type": "markdown",
   "metadata": {},
   "source": [
    "# Parallel implementation of pulse_finder_species_set with torch Dataset\n",
    "In this notebook we create a class with torch.utils.data.Dataset as a parent\n",
    "\n",
    "This class implements `__len__` and `__getitem__` so that we can analyze files in parallel\n",
    "\n",
    "\n",
    "The analysis happens within the `__getitem__` implementation\n",
    "\n",
    "After initializing the PulseFinder object, we create a DataLoader to run analysis in parallel"
   ]
  },
  {
   "cell_type": "code",
   "execution_count": 12,
   "metadata": {},
   "outputs": [],
   "source": [
    "import torch\n",
    "import numpy as np\n",
    "import pandas as pd\n",
    "from os.path import basename\n",
    "import sys\n",
    "\n",
    "from opensoundscape.audio import Audio\n",
    "from opensoundscape.spectrogram import Spectrogram\n",
    "from opensoundscape.pulse_finder import pulse_finder_species_set, summarize_top_scores"
   ]
  },
  {
   "cell_type": "code",
   "execution_count": 2,
   "metadata": {},
   "outputs": [],
   "source": [
    "from librosa import get_duration\n",
    "from itertools import chain"
   ]
  },
  {
   "cell_type": "code",
   "execution_count": 24,
   "metadata": {},
   "outputs": [],
   "source": [
    "class PulseFinder(torch.utils.data.Dataset):\n",
    "    \"\"\"A torch Dataset child which takes a list of audio files and species table, and creates \"\"\"\n",
    "    def __init__(self, audio_paths,species_table,out_dir):\n",
    "        self.audio_paths = audio_paths\n",
    "        self.species_df = pd.read_csv(species_table)\n",
    "        self.out_dir = out_dir\n",
    "        self.results = [None] * len(self.audio_paths) #list of paths to result tables saved by __getitem__\n",
    "        \n",
    "    def __len__(self):\n",
    "        return len(self.audio_paths)\n",
    "\n",
    "    def __getitem__(self, item_idx): #do all the processing here\n",
    "        \"\"\"returns path to saved results table. also appends that path to self.results\"\"\"\n",
    "        \n",
    "        try:\n",
    "            audio_path = self.audio_paths[item_idx]\n",
    "\n",
    "            audio = Audio(audio_path,sample_rate=32000)\n",
    "\n",
    "            spectrogram = Spectrogram.from_audio(audio,segment_length=256)\n",
    "\n",
    "            result_df = pulse_finder_species_set(spectrogram,self.species_df.copy())\n",
    "\n",
    "            #save result dataframe to a file\n",
    "            output_location = f'{self.out_dir}/{basename(audio_path)}_prdf.csv'\n",
    "            result_df.to_csv(output_location)\n",
    "\n",
    "    #         self.results[item_idx] = output_location\n",
    "\n",
    "            return {'data':[output_location]}\n",
    "        \n",
    "        except Exception as e:\n",
    "            sys.stderr.write(f'exception on file {audio_path}. {e} \\n')\n",
    "            return {'data':[]}\n",
    "        \n",
    "\n",
    "def collate_fn(batch):                                                                                                                                                                     \n",
    "    return chain.from_iterable([x[\"data\"] for x in batch])\n",
    "\n",
    "def summarize(list_of_df_paths):\n",
    "    \"\"\"returns a file vs species-top-score df with all files this object has analyzed\"\"\"\n",
    "    results_dfs = [pd.read_csv(t) for t in self.results if t is not None]\n",
    "    complete_audio_paths = [self.audio_paths[i] for i in range(len(self)) if self.results[i] is not None]\n",
    "    return summarize_top_scores(complete_audio_paths,results_dfs)\n",
    "\n"
   ]
  },
  {
   "cell_type": "code",
   "execution_count": 25,
   "metadata": {},
   "outputs": [
    {
     "name": "stderr",
     "output_type": "stream",
     "text": [
      "/Users/sml161/Library/Caches/pypoetry/virtualenvs/opensoundscape-6-tAnDaV-py3.7/lib/python3.7/site-packages/librosa/core/audio.py:161: UserWarning: PySoundFile failed. Trying audioread instead.\n",
      "  warnings.warn('PySoundFile failed. Trying audioread instead.')\n"
     ]
    }
   ],
   "source": [
    "a = Audio('/Volumes/lacie/projects1/Sam-Lapp/opensoundscape/tests/silence_10s.mp3',sample_rate=32000)"
   ]
  },
  {
   "cell_type": "code",
   "execution_count": 26,
   "metadata": {},
   "outputs": [
    {
     "name": "stdout",
     "output_type": "stream",
     "text": [
      "The autoreload extension is already loaded. To reload it, use:\n",
      "  %reload_ext autoreload\n"
     ]
    }
   ],
   "source": [
    "%load_ext autoreload\n",
    "%autoreload 2"
   ]
  },
  {
   "cell_type": "code",
   "execution_count": 27,
   "metadata": {},
   "outputs": [],
   "source": [
    "audio_paths = ['/Volumes/lacie/projects1/Sam-Lapp/opensoundscape/tests/great_plains_toad.wav',\n",
    "               '/Volumes/lacie/projects1/Sam-Lapp/opensoundscape/tests/silence_10s.mp3',\n",
    "              '/Volumes/lacie/projects1/Sam-Lapp/opensoundscape/tests/idontexist.mp3']\n",
    "out_dir = '/Volumes/lacie/projects1/Sam-Lapp/opensoundscape/output'\n",
    "species_table = '/Volumes/lacie/projects1/Sam-Lapp/DAAN9/tables/ampr_frog_pulse_rates_20200406.csv'"
   ]
  },
  {
   "cell_type": "code",
   "execution_count": 18,
   "metadata": {},
   "outputs": [
    {
     "name": "stderr",
     "output_type": "stream",
     "text": [
      "/Volumes/lacie/projects1/Sam-Lapp/opensoundscape/opensoundscape/spectrogram.py:68: RuntimeWarning: divide by zero encountered in log10\n",
      "  spectrogram = 10 * np.log10(spectrogram)\n"
     ]
    }
   ],
   "source": [
    "audio = Audio(audio_paths[0],sample_rate=32000)\n",
    "spectrogram = Spectrogram.from_audio(audio,segment_length=256)\n"
   ]
  },
  {
   "cell_type": "markdown",
   "metadata": {},
   "source": [
    "we initialize the PulseFinder object with all of the audio files we want to analyze"
   ]
  },
  {
   "cell_type": "code",
   "execution_count": 19,
   "metadata": {},
   "outputs": [],
   "source": [
    "pulse_finder_obj = PulseFinder(audio_paths,species_table,out_dir)"
   ]
  },
  {
   "cell_type": "markdown",
   "metadata": {},
   "source": [
    "we then create a DataLoader to manage parallelization"
   ]
  },
  {
   "cell_type": "code",
   "execution_count": 20,
   "metadata": {},
   "outputs": [],
   "source": [
    "batch_size = 1 # number of parallel analyses on each cpu\n",
    "num_workers = 1 # number of cpu's to use\n",
    "\n",
    "#dataloader will return the outputs of PulseFinder's __getitem__ in a *list* \n",
    "dataloader = torch.utils.data.DataLoader(pulse_finder_obj, batch_size=batch_size, shuffle=False, num_workers=num_workers, collate_fn=collate_fn)"
   ]
  },
  {
   "cell_type": "markdown",
   "metadata": {},
   "source": [
    "we can retrieve the results by requesting that dataloader process them simply by iterating on dataloader (`in` operator)"
   ]
  },
  {
   "cell_type": "code",
   "execution_count": 22,
   "metadata": {},
   "outputs": [
    {
     "name": "stderr",
     "output_type": "stream",
     "text": [
      "/Users/sml161/Library/Caches/pypoetry/virtualenvs/opensoundscape-6-tAnDaV-py3.7/lib/python3.7/site-packages/librosa/core/audio.py:161: UserWarning: PySoundFile failed. Trying audioread instead.\n",
      "  warnings.warn('PySoundFile failed. Trying audioread instead.')\n",
      "exception on file /Volumes/lacie/projects1/Sam-Lapp/opensoundscape/tests/idontexist.mp3. Error: The file /Volumes/lacie/projects1/Sam-Lapp/opensoundscape/tests/idontexist.mp3 doesn't exist? \n"
     ]
    },
    {
     "data": {
      "text/plain": [
       "['/Volumes/lacie/projects1/Sam-Lapp/opensoundscape/output/great_plains_toad.wav_prdf.csv',\n",
       " '/Volumes/lacie/projects1/Sam-Lapp/opensoundscape/output/silence_10s.mp3_prdf.csv']"
      ]
     },
     "execution_count": 22,
     "metadata": {},
     "output_type": "execute_result"
    }
   ],
   "source": [
    "returns = []\n",
    "for outputs in dataloader:\n",
    "    for out in outputs:\n",
    "        returns.append(out)\n",
    "returns"
   ]
  },
  {
   "cell_type": "code",
   "execution_count": null,
   "metadata": {},
   "outputs": [],
   "source": []
  },
  {
   "cell_type": "code",
   "execution_count": 70,
   "metadata": {},
   "outputs": [],
   "source": [
    "df = pulse_finder_obj.summarize()"
   ]
  },
  {
   "cell_type": "code",
   "execution_count": null,
   "metadata": {},
   "outputs": [],
   "source": []
  }
 ],
 "metadata": {
  "kernelspec": {
   "display_name": "opensoundscape-6-tAnDaV-py3.7",
   "language": "python",
   "name": "opensoundscape-6-tandav-py3.7"
  },
  "language_info": {
   "codemirror_mode": {
    "name": "ipython",
    "version": 3
   },
   "file_extension": ".py",
   "mimetype": "text/x-python",
   "name": "python",
   "nbconvert_exporter": "python",
   "pygments_lexer": "ipython3",
   "version": "3.7.3"
  }
 },
 "nbformat": 4,
 "nbformat_minor": 4
}
