{
 "cells": [
  {
   "cell_type": "markdown",
   "metadata": {},
   "source": [
    "# Converting Raven annotations to OpSo labels\n",
    "This notebook demonstrates how to convert annotations from a Raven file into labels"
   ]
  },
  {
   "cell_type": "code",
   "execution_count": 1,
   "metadata": {},
   "outputs": [],
   "source": [
    "import pandas as pd\n",
    "import numpy as np\n",
    "\n",
    "from opensoundscape.labels import raven_bird_annotations_to_labels\n",
    "from opensoundscape.audio import Audio\n",
    "from opensoundscape.spectrogram import Spectrogram\n",
    "from opensoundscape import taxa\n",
    "species_list = taxa.get_species_list()"
   ]
  },
  {
   "cell_type": "code",
   "execution_count": 2,
   "metadata": {},
   "outputs": [],
   "source": [
    "%load_ext autoreload\n",
    "%autoreload 2"
   ]
  },
  {
   "cell_type": "markdown",
   "metadata": {},
   "source": [
    "## load audio and point to annotation file"
   ]
  },
  {
   "cell_type": "code",
   "execution_count": 3,
   "metadata": {},
   "outputs": [
    {
     "name": "stderr",
     "output_type": "stream",
     "text": [
      "/Users/sml161/Library/Caches/pypoetry/virtualenvs/opensoundscape-6-tAnDaV-py3.7/lib/python3.7/site-packages/librosa/core/audio.py:161: UserWarning: PySoundFile failed. Trying audioread instead.\n",
      "  warnings.warn('PySoundFile failed. Trying audioread instead.')\n"
     ]
    }
   ],
   "source": [
    "audio_path = './Atelopus-varius_1.mp3'\n",
    "audio = Audio(audio_path)\n",
    "annotation_file = './Atelopus-varius_1.Table.1.selections.txt'"
   ]
  },
  {
   "cell_type": "markdown",
   "metadata": {},
   "source": [
    "## divide audio into clips, and store info in df"
   ]
  },
  {
   "cell_type": "code",
   "execution_count": 4,
   "metadata": {},
   "outputs": [],
   "source": [
    "clip_df = pd.DataFrame(columns=['audio_path','start_time','end_time','raven_txt_file'])\n",
    "clip_len =5 \n",
    "total_len = len(audio.samples)/audio.sample_rate\n",
    "for start_t in np.arange(0,total_len,clip_len):\n",
    "    end_t = start_t+clip_len\n",
    "    clip_path = f'{audio_path.replace(\".mp3\",\"\")}_{start_t}.mp3'\n",
    "    audio.trim(start_t,end_t).save(clip_path)\n",
    "    clip_df.loc[len(clip_df)] = [clip_path,start_t,end_t,annotation_file]"
   ]
  },
  {
   "cell_type": "markdown",
   "metadata": {},
   "source": [
    "## convert annotations to a label df\n",
    "the label df has file paths as index and species from species_list as columns"
   ]
  },
  {
   "cell_type": "code",
   "execution_count": 6,
   "metadata": {},
   "outputs": [
    {
     "data": {
      "text/html": [
       "<div>\n",
       "<style scoped>\n",
       "    .dataframe tbody tr th:only-of-type {\n",
       "        vertical-align: middle;\n",
       "    }\n",
       "\n",
       "    .dataframe tbody tr th {\n",
       "        vertical-align: top;\n",
       "    }\n",
       "\n",
       "    .dataframe thead th {\n",
       "        text-align: right;\n",
       "    }\n",
       "</style>\n",
       "<table border=\"1\" class=\"dataframe\">\n",
       "  <thead>\n",
       "    <tr style=\"text-align: right;\">\n",
       "      <th></th>\n",
       "      <th>turdus-migratorius</th>\n",
       "      <th>accipiter-cooperii</th>\n",
       "      <th>setophaga-fusca</th>\n",
       "      <th>antrostomus-vociferus</th>\n",
       "    </tr>\n",
       "    <tr>\n",
       "      <th>audio_path</th>\n",
       "      <th></th>\n",
       "      <th></th>\n",
       "      <th></th>\n",
       "      <th></th>\n",
       "    </tr>\n",
       "  </thead>\n",
       "  <tbody>\n",
       "    <tr>\n",
       "      <th>./Atelopus-varius_1_0.0.mp3</th>\n",
       "      <td>0</td>\n",
       "      <td>0</td>\n",
       "      <td>0</td>\n",
       "      <td>1</td>\n",
       "    </tr>\n",
       "    <tr>\n",
       "      <th>./Atelopus-varius_1_5.0.mp3</th>\n",
       "      <td>1</td>\n",
       "      <td>0</td>\n",
       "      <td>0</td>\n",
       "      <td>1</td>\n",
       "    </tr>\n",
       "    <tr>\n",
       "      <th>./Atelopus-varius_1_10.0.mp3</th>\n",
       "      <td>1</td>\n",
       "      <td>0</td>\n",
       "      <td>0</td>\n",
       "      <td>0</td>\n",
       "    </tr>\n",
       "    <tr>\n",
       "      <th>./Atelopus-varius_1_15.0.mp3</th>\n",
       "      <td>0</td>\n",
       "      <td>0</td>\n",
       "      <td>0</td>\n",
       "      <td>0</td>\n",
       "    </tr>\n",
       "  </tbody>\n",
       "</table>\n",
       "</div>"
      ],
      "text/plain": [
       "                             turdus-migratorius accipiter-cooperii  \\\n",
       "audio_path                                                           \n",
       "./Atelopus-varius_1_0.0.mp3                   0                  0   \n",
       "./Atelopus-varius_1_5.0.mp3                   1                  0   \n",
       "./Atelopus-varius_1_10.0.mp3                  1                  0   \n",
       "./Atelopus-varius_1_15.0.mp3                  0                  0   \n",
       "\n",
       "                             setophaga-fusca antrostomus-vociferus  \n",
       "audio_path                                                          \n",
       "./Atelopus-varius_1_0.0.mp3                0                     1  \n",
       "./Atelopus-varius_1_5.0.mp3                0                     1  \n",
       "./Atelopus-varius_1_10.0.mp3               0                     0  \n",
       "./Atelopus-varius_1_15.0.mp3               0                     0  "
      ]
     },
     "execution_count": 6,
     "metadata": {},
     "output_type": "execute_result"
    }
   ],
   "source": [
    "correction_dict = {'AMMO':'AMRO'}\n",
    "species_list_short = ['turdus-migratorius','accipiter-cooperii','setophaga-fusca', 'antrostomus-vociferus']\n",
    "labels = raven_bird_annotations_to_labels(clip_df,species_list_short,correction_dict=correction_dict)\n",
    "labels"
   ]
  },
  {
   "cell_type": "code",
   "execution_count": null,
   "metadata": {},
   "outputs": [],
   "source": []
  }
 ],
 "metadata": {
  "kernelspec": {
   "display_name": "opensoundscape-6-tAnDaV-py3.7",
   "language": "python",
   "name": "opensoundscape-6-tandav-py3.7"
  },
  "language_info": {
   "codemirror_mode": {
    "name": "ipython",
    "version": 3
   },
   "file_extension": ".py",
   "mimetype": "text/x-python",
   "name": "python",
   "nbconvert_exporter": "python",
   "pygments_lexer": "ipython3",
   "version": "3.7.3"
  }
 },
 "nbformat": 4,
 "nbformat_minor": 4
}
